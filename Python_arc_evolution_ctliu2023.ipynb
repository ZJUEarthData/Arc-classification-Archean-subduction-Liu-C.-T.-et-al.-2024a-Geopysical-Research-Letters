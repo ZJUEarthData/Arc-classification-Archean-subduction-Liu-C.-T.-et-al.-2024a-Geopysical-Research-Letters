{
 "cells": [
  {
   "cell_type": "code",
   "execution_count": 1,
   "id": "87d3e580",
   "metadata": {},
   "outputs": [],
   "source": [
    "##python codes for the XGBoost machine learning model\n",
    "#This model can calssify arc basalts from non-arc basalts\n",
    "#Here, we extract the dara from \"Parental training dataset\" to train the XGBoost model\n",
    "\n",
    "from __future__ import division, print_function, unicode_literals\n",
    "\n",
    "# Check if the version of python is 3.5 and above\n",
    "import sys\n",
    "assert sys.version_info >= (3, 5)\n",
    "\n",
    "# Check to see if sklearn is version 0.20 and above\n",
    "import sklearn #\n",
    "assert sklearn.__version__ >= \"0.20\"\n",
    "from sklearn.decomposition import PCA\n",
    "import numpy as np\n",
    "import pandas as pd\n",
    "from matplotlib import pyplot as plt\n",
    "import os \n",
    "from xgboost import XGBClassifier#\n",
    "from sklearn.metrics import accuracy_score, r2_score, make_scorer, f1_score, recall_score, precision_score\n",
    "from sklearn.model_selection import GridSearchCV#\n",
    "from sklearn.model_selection import train_test_split#\n",
    "from sklearn.metrics import roc_auc_score#\n",
    "from sklearn.metrics import roc_curve, auc#\n",
    "from sklearn.metrics import confusion_matrix#\n",
    "import seaborn as sns\n",
    "from sklearn.feature_selection import mutual_info_regression\n",
    "\n",
    "np.random.seed(2022) \n",
    "\n",
    "# Make matplotlib diagrams work better\n",
    "# matplotlib inline\n",
    "import matplotlib as mpl\n",
    "mpl.rc('axes', labelsize=14)\n",
    "mpl.rc('xtick', labelsize=12)\n",
    "mpl.rc('ytick', labelsize=12)\n"
   ]
  },
  {
   "cell_type": "code",
   "execution_count": 2,
   "id": "487b6b91",
   "metadata": {},
   "outputs": [],
   "source": [
    "# Ignoring Unnecessary Warnings\n",
    "import warnings\n",
    "warnings.filterwarnings(action=\"ignore\", message=\"^internal gelsd\")"
   ]
  },
  {
   "cell_type": "code",
   "execution_count": 3,
   "id": "4f28446c",
   "metadata": {},
   "outputs": [],
   "source": [
    "# read Excel\n",
    "#Notes\n",
    "#put the \"Table-S2_Dataset for training model\" and this jupyter python code into a same path\n",
    "orig_data = pd.read_excel('Table-S2_Dataset for training model.xlsx')#"
   ]
  },
  {
   "cell_type": "code",
   "execution_count": null,
   "id": "061f5ec0",
   "metadata": {},
   "outputs": [],
   "source": [
    "# Separate features and labels\n",
    "X = orig_data.drop([\"TRUE_VALUE\"], axis=1).copy()\n",
    "y = orig_data[\"TRUE_VALUE\"]"
   ]
  },
  {
   "cell_type": "code",
   "execution_count": 5,
   "id": "fabd754c",
   "metadata": {},
   "outputs": [
    {
     "data": {
      "text/plain": [
       "Index(['Rb', 'Sr', 'Pb', 'Th', 'U', 'Nb', 'Ta', 'La', 'Ce', 'Ba', 'Y', 'Zr',\n",
       "       'Ti', 'P', 'La/Yb', 'Nb/Yb', 'Zr/Y', 'Ti/Y', 'Nb/Th', 'Nb/La', 'Rb/Nb',\n",
       "       'Sr/Nd', 'Pb/Nb', 'Pb/Nd', 'Ba/Nb', 'Ba/La', 'U/Nb'],\n",
       "      dtype='object')"
      ]
     },
     "execution_count": 5,
     "metadata": {},
     "output_type": "execute_result"
    }
   ],
   "source": [
    "X.columns"
   ]
  },
  {
   "cell_type": "code",
   "execution_count": 7,
   "id": "772a18b3",
   "metadata": {},
   "outputs": [
    {
     "name": "stderr",
     "output_type": "stream",
     "text": [
      "D:\\Software\\lib\\site-packages\\seaborn\\_decorators.py:36: FutureWarning: Pass the following variable as a keyword arg: x. From version 0.12, the only valid positional argument will be `data`, and passing other arguments without an explicit keyword will result in an error or misinterpretation.\n",
      "  warnings.warn(\n"
     ]
    },
    {
     "data": {
      "text/plain": [
       "(array([0, 1]), [Text(0, 0, '0'), Text(1, 0, '1')])"
      ]
     },
     "execution_count": 7,
     "metadata": {},
     "output_type": "execute_result"
    },
    {
     "data": {
      "image/png": "[encoded data removed]",
      "text/plain": [
       "<Figure size 1152x432 with 1 Axes>"
      ]
     },
     "metadata": {
      "needs_background": "light"
     },
     "output_type": "display_data"
    }
   ],
   "source": [
    "plt.figure(figsize=(16, 6))\n",
    "sns.countplot(orig_data.TRUE_VALUE, palette=\"Set2\")\n",
    "plt.xticks(rotation=0)"
   ]
  },
  {
   "cell_type": "code",
   "execution_count": 8,
   "id": "5c8c0e93",
   "metadata": {},
   "outputs": [],
   "source": [
    "xgb_clf = XGBClassifier()"
   ]
  },
  {
   "cell_type": "code",
   "execution_count": 9,
   "id": "3a5d52e4",
   "metadata": {},
   "outputs": [
    {
     "name": "stdout",
     "output_type": "stream",
     "text": [
      "Scores: [0.85098612 0.82030679 0.7596786  0.88970051 0.95617239 0.87509131\n",
      " 0.89627465 0.74799123 0.89254386 0.91666667]\n",
      "Mean: 0.8605412133328206\n",
      "Standard deviation: 0.06341078735607114\n"
     ]
    }
   ],
   "source": [
    "#before running our model, check the imbalance problem of our trining dataset at the first\n",
    "from sklearn.model_selection import cross_val_score#\n",
    "\n",
    "# Ten-fold cross validation #\n",
    "scores = cross_val_score(xgb_clf, X, y,\n",
    "                        scoring = \"accuracy\", cv=10,#cv\n",
    "                        n_jobs=-1)\n",
    "def display_scores(scores):\n",
    "\n",
    "    print(\"Scores:\", scores)\n",
    "    print(\"Mean:\", scores.mean())\n",
    "    print(\"Standard deviation:\", scores.std())\n",
    "    \n",
    "display_scores(scores)"
   ]
  },
  {
   "cell_type": "code",
   "execution_count": 10,
   "id": "a4580ad6",
   "metadata": {},
   "outputs": [
    {
     "name": "stderr",
     "output_type": "stream",
     "text": [
      "D:\\Software\\lib\\site-packages\\xgboost\\sklearn.py:1146: UserWarning: The use of label encoder in XGBClassifier is deprecated and will be removed in a future release. To remove this warning, do the following: 1) Pass option use_label_encoder=False when constructing XGBClassifier object; and 2) Encode your labels (y) as integers starting with 0, i.e. 0, 1, 2, ..., [num_class - 1].\n",
      "  warnings.warn(label_encoder_deprecation_msg, UserWarning)\n"
     ]
    },
    {
     "name": "stdout",
     "output_type": "stream",
     "text": [
      "[10:54:58] WARNING: C:/Users/Administrator/workspace/xgboost-win64_release_1.4.0/src/learner.cc:1095: Starting in XGBoost 1.3.0, the default evaluation metric used with the objective 'binary:logistic' was changed from 'error' to 'logloss'. Explicitly set eval_metric if you'd like to restore the old behavior.\n"
     ]
    }
   ],
   "source": [
    "#Randomly seperate the traning dataset\n",
    "X_train, X_test, y_train, y_test = train_test_split(X, y, test_size=0.3, random_state=42)\n",
    "\n",
    "X_train.shape, X_test.shape, y_train.shape, y_test.shape\n",
    "\n",
    "xgb_clf.fit(X_train, y_train)\n",
    "y_pred_xgb = xgb_clf.predict(X_train)"
   ]
  },
  {
   "cell_type": "code",
   "execution_count": 11,
   "id": "efaabf11",
   "metadata": {},
   "outputs": [
    {
     "data": {
      "text/plain": [
       "array([0.0142148 , 0.02058639, 0.0154189 , 0.01323927, 0.01006616,\n",
       "       0.03544816, 0.02065528, 0.02670905, 0.01386739, 0.01758813,\n",
       "       0.01407075, 0.0171557 , 0.04939359, 0.02523722, 0.01545956,\n",
       "       0.02205101, 0.0144536 , 0.01637034, 0.02939531, 0.42301473,\n",
       "       0.01926509, 0.0417236 , 0.02560633, 0.02216686, 0.03314206,\n",
       "       0.01686177, 0.02683898], dtype=float32)"
      ]
     },
     "execution_count": 11,
     "metadata": {},
     "output_type": "execute_result"
    }
   ],
   "source": [
    "xgb_clf.feature_importances_#"
   ]
  },
  {
   "cell_type": "code",
   "execution_count": 12,
   "id": "bf75fbac",
   "metadata": {},
   "outputs": [
    {
     "name": "stdout",
     "output_type": "stream",
     "text": [
      "Rb : 0.014214804\n",
      "Sr : 0.020586392\n",
      "Pb : 0.015418896\n",
      "Th : 0.013239275\n",
      "U : 0.010066165\n",
      "Nb : 0.03544816\n",
      "Ta : 0.020655276\n",
      "La : 0.026709054\n",
      "Ce : 0.013867389\n",
      "Ba : 0.017588133\n",
      "Y : 0.01407075\n",
      "Zr : 0.017155698\n",
      "Ti : 0.04939359\n",
      "P : 0.025237218\n",
      "La/Yb : 0.015459556\n",
      "Nb/Yb : 0.022051007\n",
      "Zr/Y : 0.014453604\n",
      "Ti/Y : 0.016370341\n",
      "Nb/Th : 0.029395312\n",
      "Nb/La : 0.42301473\n",
      "Rb/Nb : 0.019265085\n",
      "Sr/Nd : 0.0417236\n",
      "Pb/Nb : 0.025606329\n",
      "Pb/Nd : 0.02216686\n",
      "Ba/Nb : 0.033142056\n",
      "Ba/La : 0.016861774\n",
      "U/Nb : 0.026838982\n"
     ]
    }
   ],
   "source": [
    "# show feature importance\n",
    "for feature_name, score in zip(list(X.columns), xgb_clf.feature_importances_):\n",
    "    print(feature_name, \":\", score)"
   ]
  },
  {
   "cell_type": "code",
   "execution_count": 13,
   "id": "e541e7d0",
   "metadata": {},
   "outputs": [],
   "source": [
    "learning_rate = [ 0.1,0.2,0.5,0.6,0.7]\n",
    "depth = [3, 4, 5, 6, 7]\n",
    "min_split = [0.1,0.2,0.3,1]#\n",
    "alpha1 = [0.1,0.3,0.5,0.7,0.9, 1]"
   ]
  },
  {
   "cell_type": "code",
   "execution_count": 14,
   "id": "d4cf5a66",
   "metadata": {},
   "outputs": [],
   "source": [
    "xgb = XGBClassifier(objective='binary:logistic',\n",
    "                    eval_metric = 'auc', tree_method='hist', seed=2023,importance_type = 'cover')#"
   ]
  },
  {
   "cell_type": "code",
   "execution_count": null,
   "id": "c3bf8b8a",
   "metadata": {},
   "outputs": [],
   "source": [
    "xgb_cv = GridSearchCV(xgb, param_grid = {'eta': learning_rate, 'gamma': min_split, 'max_depth': depth, 'alpha':alpha1}, \n",
    "                      cv=10, scoring='f1') #cv=10: tenfold cross-validation\n",
    "xgb_cv.fit(X_train, y_train)"
   ]
  },
  {
   "cell_type": "code",
   "execution_count": 576,
   "id": "49277b28",
   "metadata": {},
   "outputs": [
    {
     "name": "stdout",
     "output_type": "stream",
     "text": [
      "Scores: [0.95933264 0.95824635 0.94572025 0.94676409 0.95302714 0.95511482\n",
      " 0.94780793 0.94780793 0.9394572  0.94154489]\n",
      "Mean: 0.949482324359273\n",
      "Standard deviation: 0.00639361156141271\n"
     ]
    }
   ],
   "source": [
    "#calculate a mean value and standard deviation of the tenfold cross-validation scores of a best trained model\n",
    "from sklearn.model_selection import cross_val_score\n",
    "\n",
    "scores = cross_val_score(xgb_cv.best_estimator_, X_train, y_train,\n",
    "                        scoring = \"accuracy\", cv=10,\n",
    "                        n_jobs=-1)\n",
    "def display_scores(scores):\n",
    "    \n",
    "    print(\"Scores:\", scores)\n",
    "    print(\"Mean:\", scores.mean())\n",
    "    print(\"Standard deviation:\", scores.std())\n",
    "    \n",
    "display_scores(scores)"
   ]
  },
  {
   "cell_type": "code",
   "execution_count": 578,
   "id": "cc3a95e7",
   "metadata": {},
   "outputs": [
    {
     "data": {
      "text/plain": [
       "0.9314438125020015"
      ]
     },
     "execution_count": 578,
     "metadata": {},
     "output_type": "execute_result"
    }
   ],
   "source": [
    "#show the best score (mean value)\n",
    "xgb_cv.best_score_"
   ]
  },
  {
   "cell_type": "code",
   "execution_count": 579,
   "id": "18427128",
   "metadata": {},
   "outputs": [
    {
     "data": {
      "text/plain": [
       "XGBClassifier(alpha=0.7, base_score=0.5, booster='gbtree', colsample_bylevel=1,\n",
       "              colsample_bynode=1, colsample_bytree=1, eta=0.5,\n",
       "              eval_metric='auc', gamma=0.1, gpu_id=-1, importance_type='cover',\n",
       "              interaction_constraints='', learning_rate=0.5, max_delta_step=0,\n",
       "              max_depth=7, min_child_weight=1, missing=nan,\n",
       "              monotone_constraints='()', n_estimators=100, n_jobs=36,\n",
       "              num_parallel_tree=1, random_state=2023, reg_alpha=0.699999988,\n",
       "              reg_lambda=1, scale_pos_weight=1, seed=2023, subsample=1,\n",
       "              tree_method='hist', validate_parameters=1, verbosity=None)"
      ]
     },
     "execution_count": 579,
     "metadata": {},
     "output_type": "execute_result"
    }
   ],
   "source": [
    "#show parameters of the best model\n",
    "xgb_cv.best_estimator_"
   ]
  },
  {
   "cell_type": "code",
   "execution_count": 580,
   "id": "be05f05e",
   "metadata": {},
   "outputs": [],
   "source": [
    "features = list(X.columns)\n",
    "importances = xgb_cv.best_estimator_.feature_importances_\n",
    "indices = np.argsort(importances)"
   ]
  },
  {
   "cell_type": "code",
   "execution_count": 581,
   "id": "d26166d8",
   "metadata": {},
   "outputs": [],
   "source": [
    "df4 = pd.DataFrame({'features':features,'importances':importances})\n",
    "df4.to_excel('ML_model_training.xlsx')"
   ]
  },
  {
   "cell_type": "code",
   "execution_count": 582,
   "id": "427927db",
   "metadata": {},
   "outputs": [
    {
     "data": {
      "image/png": "[encoded data removed]",
      "text/plain": [
       "<Figure size 720x576 with 1 Axes>"
      ]
     },
     "metadata": {
      "needs_background": "light"
     },
     "output_type": "display_data"
    },
    {
     "data": {
      "image/png": "[encoded data removed]",
      "text/plain": [
       "<Figure size 504x360 with 1 Axes>"
      ]
     },
     "metadata": {
      "needs_background": "light"
     },
     "output_type": "display_data"
    }
   ],
   "source": [
    "from matplotlib.pyplot import MultipleLocator\n",
    "plt.figure(figsize=(10, 8))\n",
    "mean_importance = df4['importances'].mean()\n",
    "plt.barh(range(len(indices)), importances[indices], color='c', align='center')\n",
    "plt.yticks(range(len(indices)), [features[i] for i in indices], fontsize=12)\n",
    "plt.xticks(fontsize=12)\n",
    "plt.xlabel('Relative Importance',fontsize=25)\n",
    "\n",
    "x_major_locator=MultipleLocator(0.02)#\n",
    "ax = plt.gca()\n",
    "ax.xaxis.set_major_locator(x_major_locator)\n",
    "plt.xlim((0,0.1))\n",
    "plt.title('Relative Feature Importance XGBoost (Mean: {:.4f})'.format(mean_importance))\n",
    "plt.savefig('ML_model_training1.pdf', dpi=500)\n",
    "plt.show()\n",
    "plt.rcParams[\"figure.figsize\"] = (20, 10)\n",
    "\n",
    "feature_importance = xgb_cv.best_estimator_.feature_importances_\n",
    "feature_names = X.columns\n",
    "feature_importance_df = pd.DataFrame({'Feature': feature_names, 'importances': feature_importance})\n",
    "feature_importance_df = feature_importance_df.sort_values('importances', ascending=False)\n",
    "\n",
    "mean_importance = feature_importance_df['importances'].mean()\n",
    "\n",
    "\n",
    "from matplotlib import cm\n",
    "my_colors = cm.summer(np.arange(feature_importance_df['Feature'].shape[0]) / feature_importance_df['Feature'].shape[0])\n",
    "\n",
    "plt.figure(figsize=(7, 5))\n",
    "plt.bar(feature_importance_df['Feature'], feature_importance_df['importances'],color = my_colors)\n",
    "plt.xticks(fontsize=10)\n",
    "plt.yticks(fontsize=10)\n",
    "plt.xlabel('Input feature',fontsize=12)\n",
    "plt.ylabel('Relative Feature Importance',fontsize=12)\n",
    "\n",
    "plt.xticks(rotation='90')\n",
    "plt.ylim((0,0.1))\n",
    "\n",
    "plt.tight_layout() \n",
    "plt.savefig('ML_model_training2.pdf', dpi=500)\n",
    "plt.show()"
   ]
  },
  {
   "cell_type": "code",
   "execution_count": 583,
   "id": "78338196",
   "metadata": {},
   "outputs": [
    {
     "name": "stderr",
     "output_type": "stream",
     "text": [
      "D:\\Software\\lib\\site-packages\\xgboost\\sklearn.py:1146: UserWarning: The use of label encoder in XGBClassifier is deprecated and will be removed in a future release. To remove this warning, do the following: 1) Pass option use_label_encoder=False when constructing XGBClassifier object; and 2) Encode your labels (y) as integers starting with 0, i.e. 0, 1, 2, ..., [num_class - 1].\n",
      "  warnings.warn(label_encoder_deprecation_msg, UserWarning)\n"
     ]
    }
   ],
   "source": [
    "# predict the test data set\n",
    "xgb_test = xgb_cv.best_estimator_\n",
    "xgb_test.fit(X_train,y_train)\n",
    "y_test_pred = xgb_test.predict(X_test)"
   ]
  },
  {
   "cell_type": "code",
   "execution_count": 584,
   "id": "2ace042f",
   "metadata": {},
   "outputs": [
    {
     "name": "stdout",
     "output_type": "stream",
     "text": [
      "Accuracy: 0.9525\n",
      "ROC AUC: 0.9449\n",
      "Precision: 0.9618\n",
      "Recall: 0.9123\n",
      "F1 Score: 0.9364\n"
     ]
    }
   ],
   "source": [
    "print('Accuracy: %.4f' % accuracy_score(y_test, y_test_pred))\n",
    "print('ROC AUC: %.4f' % roc_auc_score(y_test, y_test_pred))\n",
    "print('Precision: %.4f' % precision_score(y_true=y_test, y_pred=y_test_pred))\n",
    "print('Recall: %.4f' % recall_score(y_true=y_test, y_pred=y_test_pred))\n",
    "print('F1 Score: %.4f' % f1_score(y_true=y_test, y_pred=y_test_pred))"
   ]
  },
  {
   "cell_type": "code",
   "execution_count": 585,
   "id": "c8f21e48",
   "metadata": {},
   "outputs": [
    {
     "name": "stdout",
     "output_type": "stream",
     "text": [
      "              precision    recall  f1-score   support\n",
      "\n",
      "           0       0.95      0.98      0.96      2533\n",
      "           1       0.96      0.91      0.94      1574\n",
      "\n",
      "    accuracy                           0.95      4107\n",
      "   macro avg       0.95      0.94      0.95      4107\n",
      "weighted avg       0.95      0.95      0.95      4107\n",
      "\n"
     ]
    }
   ],
   "source": [
    "from sklearn.metrics import classification_report\n",
    "\n",
    "print(classification_report(y_true=y_test, y_pred=y_test_pred))"
   ]
  },
  {
   "cell_type": "code",
   "execution_count": 586,
   "id": "7ca94855",
   "metadata": {},
   "outputs": [
    {
     "name": "stdout",
     "output_type": "stream",
     "text": [
      "[[2476   57]\n",
      " [ 138 1436]]\n"
     ]
    }
   ],
   "source": [
    "confmat = confusion_matrix(y_true=y_test, y_pred=y_test_pred)\n",
    "\n",
    "print(confmat)"
   ]
  },
  {
   "cell_type": "code",
   "execution_count": 587,
   "id": "6b2ac52c",
   "metadata": {},
   "outputs": [
    {
     "data": {
      "image/png": "[encoded data removed]",
      "text/plain": [
       "<Figure size 360x360 with 1 Axes>"
      ]
     },
     "metadata": {
      "needs_background": "light"
     },
     "output_type": "display_data"
    }
   ],
   "source": [
    "fig, ax = plt.subplots(figsize=(5, 5))\n",
    "label_names =['Non-arc', 'Arc']\n",
    "ax.matshow(confmat, cmap=plt.cm.Greens, alpha=0.5)\n",
    "\n",
    "ax.set(xticks=np.arange(confmat.shape[1]),\n",
    "       yticks=np.arange(confmat.shape[0]),\n",
    "       xticklabels=label_names, yticklabels=label_names)\n",
    "plt.yticks(rotation='90')\n",
    "for i in range(confmat.shape[0]):\n",
    "    for j in range(confmat.shape[1]):\n",
    "        ax.text(x=j, y=i, s=confmat[i,j], va='center', ha='center')\n",
    "\n",
    "x=['A','B']\n",
    "y=['C','D']\n",
    "# plt.text(1.25,0, '(b)',ha='right',fontsize=16) \n",
    "plt.xlabel('Predicted label',fontsize=12)\n",
    "plt.ylabel('True label',fontsize=12)\n",
    "plt.savefig('ML_model_confusion_matrix.pdf', dpi=800)\n",
    "plt.show()"
   ]
  },
  {
   "cell_type": "code",
   "execution_count": 588,
   "id": "53679079",
   "metadata": {},
   "outputs": [],
   "source": [
    "#predict the application dataset that is non label data\n",
    "\n",
    "#We extract \"Table-S4_Application dataset for prediction\" from parental application dataset\n",
    "\n",
    "predict_data = pd.read_excel ('Table-S4_Application dataset for prediction.xlsx')\n",
    "x_predict_data = predict_data # process.fit_transform(predict_data)"
   ]
  },
  {
   "cell_type": "code",
   "execution_count": 589,
   "id": "923e9243",
   "metadata": {},
   "outputs": [],
   "source": [
    "predict_results = xgb_cv.best_estimator_.predict_proba(x_predict_data)"
   ]
  },
  {
   "cell_type": "code",
   "execution_count": null,
   "id": "9684a60a",
   "metadata": {},
   "outputs": [],
   "source": [
    "predict_results"
   ]
  },
  {
   "cell_type": "code",
   "execution_count": 591,
   "id": "6438063b",
   "metadata": {},
   "outputs": [],
   "source": [
    "df = pd.DataFrame(data=predict_results)\n",
    "df.to_excel('predict_results_application Archean basalts.xlsx')"
   ]
  },
  {
   "cell_type": "code",
   "execution_count": null,
   "id": "bde6ffe6",
   "metadata": {},
   "outputs": [],
   "source": [
    "###Xgboost end"
   ]
  }
 ],
 "metadata": {
  "kernelspec": {
   "display_name": "Python 3",
   "language": "python",
   "name": "python3"
  },
  "language_info": {
   "codemirror_mode": {
    "name": "ipython",
    "version": 3
   },
   "file_extension": ".py",
   "mimetype": "text/x-python",
   "name": "python",
   "nbconvert_exporter": "python",
   "pygments_lexer": "ipython3",
   "version": "3.8.8"
  }
 },
 "nbformat": 4,
 "nbformat_minor": 5
}
